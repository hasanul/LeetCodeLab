{
  "cells": [
    {
      "cell_type": "markdown",
      "metadata": {
        "id": "view-in-github",
        "colab_type": "text"
      },
      "source": [
        "<a href=\"https://colab.research.google.com/github/hasanul/LeetCodeLab/blob/main/bxw174_hw1.ipynb\" target=\"_parent\"><img src=\"https://colab.research.google.com/assets/colab-badge.svg\" alt=\"Open In Colab\"/></a>"
      ]
    },
    {
      "cell_type": "markdown",
      "source": [
        "**Homework 1**\n",
        "Submitted by **Hasanul Banna (bxw174)**\n",
        "\n",
        "**Instruction:**\n",
        "1. Download the file bxw174_hw1.ipynb.\n",
        "2. Open the file in Jupyter Notebook and Run by clicking the Run button to execute the answers one by one."
      ],
      "metadata": {
        "id": "A2wuegQcLO0i"
      }
    },
    {
      "cell_type": "markdown",
      "metadata": {
        "id": "JA9xLZIVK7by"
      },
      "source": [
        "# String"
      ]
    },
    {
      "cell_type": "code",
      "execution_count": null,
      "metadata": {
        "id": "6Q-CyCtAK7b1"
      },
      "outputs": [],
      "source": [
        "#Qs 1:\n",
        "str = \"Welcome to Python Programming\""
      ]
    },
    {
      "cell_type": "code",
      "execution_count": null,
      "metadata": {
        "colab": {
          "base_uri": "https://localhost:8080/"
        },
        "id": "tSonrJZVK7b3",
        "outputId": "87546660-ac60-47d4-d864-0f5b5bc63671"
      },
      "outputs": [
        {
          "output_type": "stream",
          "name": "stdout",
          "text": [
            "Welcome to Python Programming\n"
          ]
        }
      ],
      "source": [
        "#Qs 2:\n",
        "print(str)"
      ]
    },
    {
      "cell_type": "code",
      "execution_count": null,
      "metadata": {
        "colab": {
          "base_uri": "https://localhost:8080/"
        },
        "id": "P2k2khnSK7b4",
        "outputId": "37a1b673-41f1-42f4-d042-928999e7ca98"
      },
      "outputs": [
        {
          "output_type": "stream",
          "name": "stdout",
          "text": [
            "Python\n"
          ]
        }
      ],
      "source": [
        "#Qs 3:\n",
        "print(str[11:17])"
      ]
    },
    {
      "cell_type": "code",
      "execution_count": null,
      "metadata": {
        "colab": {
          "base_uri": "https://localhost:8080/"
        },
        "id": "mJQ2TY41K7b5",
        "outputId": "d523055a-931c-4547-8a63-8a8b0244f406"
      },
      "outputs": [
        {
          "output_type": "stream",
          "name": "stdout",
          "text": [
            "mming\n"
          ]
        }
      ],
      "source": [
        "#Qs 4:\n",
        "print(str[-5:])"
      ]
    },
    {
      "cell_type": "code",
      "execution_count": null,
      "metadata": {
        "id": "RQdaTWREK7b6"
      },
      "outputs": [],
      "source": [
        "#Qs 5:\n",
        "conStr = str + '!!!'"
      ]
    },
    {
      "cell_type": "code",
      "execution_count": null,
      "metadata": {
        "colab": {
          "base_uri": "https://localhost:8080/"
        },
        "id": "1xeX0NYBK7b7",
        "outputId": "12110a0c-9565-42a0-d1a1-287c69e7e1fc"
      },
      "outputs": [
        {
          "output_type": "stream",
          "name": "stdout",
          "text": [
            "Welcome to Python Programming!!!\n"
          ]
        }
      ],
      "source": [
        "#Qs 6:\n",
        "print(conStr)"
      ]
    },
    {
      "cell_type": "markdown",
      "metadata": {
        "id": "JaIvPXoPK7b8"
      },
      "source": [
        "# List"
      ]
    },
    {
      "cell_type": "code",
      "execution_count": null,
      "metadata": {
        "id": "WogAuZmuK7b9"
      },
      "outputs": [],
      "source": [
        "#QS 1:\n",
        "List = []"
      ]
    },
    {
      "cell_type": "code",
      "execution_count": null,
      "metadata": {
        "colab": {
          "base_uri": "https://localhost:8080/"
        },
        "id": "OiW9-aRkK7b9",
        "outputId": "788446af-8506-4a74-dd9a-c23d21d46a04"
      },
      "outputs": [
        {
          "output_type": "stream",
          "name": "stdout",
          "text": [
            "[1, 2, 3, 4]\n"
          ]
        }
      ],
      "source": [
        "#Qs 2:\n",
        "List.append(1)\n",
        "List.append(2)\n",
        "List.append(3)\n",
        "List.append(4)\n",
        "print(List)"
      ]
    },
    {
      "cell_type": "code",
      "execution_count": null,
      "metadata": {
        "colab": {
          "base_uri": "https://localhost:8080/"
        },
        "id": "Hz9A-aK-K7b-",
        "outputId": "a2397493-0d97-4ec4-84ce-f40df5ba314a"
      },
      "outputs": [
        {
          "output_type": "stream",
          "name": "stdout",
          "text": [
            "[1, 2, 3, 4, (5, 6)]\n"
          ]
        }
      ],
      "source": [
        "#Qs 3:\n",
        "List.append(tuple((5, 6)))\n",
        "print(List)"
      ]
    },
    {
      "cell_type": "code",
      "execution_count": null,
      "metadata": {
        "colab": {
          "base_uri": "https://localhost:8080/"
        },
        "id": "fbI9QVSaK7b_",
        "outputId": "dbadb2d7-718e-4123-fb53-8ba5b427e1be"
      },
      "outputs": [
        {
          "output_type": "stream",
          "name": "stdout",
          "text": [
            "[1, 2, 3, 4, (5, 6), ['perfect', 'wonderful']]\n"
          ]
        }
      ],
      "source": [
        "#Qs 4:\n",
        "List.append(['perfect', 'wonderful'])\n",
        "\n",
        "print(List)"
      ]
    },
    {
      "cell_type": "code",
      "execution_count": null,
      "metadata": {
        "colab": {
          "base_uri": "https://localhost:8080/"
        },
        "id": "JjFUdYUtK7b_",
        "outputId": "8544ab8b-0c3c-4c73-ee89-6cdb7e125e37"
      },
      "outputs": [
        {
          "output_type": "stream",
          "name": "stdout",
          "text": [
            "[1, 2, 3, 4, (5, 6), ['perfect', 'wonderful'], [7, 8], [9, 10]]\n"
          ]
        }
      ],
      "source": [
        "#Qs 5:\n",
        "List = List + [[7,8],[9,10]]\n",
        "print(List)"
      ]
    },
    {
      "cell_type": "code",
      "execution_count": null,
      "metadata": {
        "colab": {
          "base_uri": "https://localhost:8080/"
        },
        "id": "Ro2oIiW7K7cB",
        "outputId": "e99a2f67-cc4c-4124-da90-9de16bacbcee"
      },
      "outputs": [
        {
          "output_type": "stream",
          "name": "stdout",
          "text": [
            "[1, 2, 3, 4, (5, 6), ['perfect', 'wonderful'], [7, 8], [9, 10], 8.5, 7, 'code', 'software']\n"
          ]
        }
      ],
      "source": [
        "#Qs 6:\n",
        "List.extend([8.5, 7,'code','software'])\n",
        "print(List)"
      ]
    },
    {
      "cell_type": "code",
      "execution_count": null,
      "metadata": {
        "colab": {
          "base_uri": "https://localhost:8080/"
        },
        "id": "exMKQBCjK7cB",
        "outputId": "255996e4-525f-4e9c-f162-b780a85d145b"
      },
      "outputs": [
        {
          "output_type": "stream",
          "name": "stdout",
          "text": [
            "[[9, 10], 8.5, 7, 'code', 'software']\n"
          ]
        }
      ],
      "source": [
        "#Qs 7:\n",
        "print(List[-5:])"
      ]
    },
    {
      "cell_type": "code",
      "execution_count": null,
      "metadata": {
        "colab": {
          "base_uri": "https://localhost:8080/"
        },
        "id": "A9eadp7NK7cB",
        "outputId": "28d0b229-fa3f-42fa-cf3e-873433b75037"
      },
      "outputs": [
        {
          "output_type": "stream",
          "name": "stdout",
          "text": [
            "[1, 2, 3, [9, 10], 8.5, 7, 'code', 'software']\n"
          ]
        }
      ],
      "source": [
        "#Qs 8:\n",
        "del List[3:7]\n",
        "print(List)"
      ]
    },
    {
      "cell_type": "markdown",
      "metadata": {
        "id": "cNs5PsDZK7cC"
      },
      "source": [
        "# Tuple"
      ]
    },
    {
      "cell_type": "code",
      "execution_count": null,
      "metadata": {
        "colab": {
          "base_uri": "https://localhost:8080/"
        },
        "id": "tBgYgWa1K7cC",
        "outputId": "50c8edee-5872-4db0-cdb0-6f8009ac98ef"
      },
      "outputs": [
        {
          "output_type": "stream",
          "name": "stdout",
          "text": [
            "(1, 2, 3, 4)\n"
          ]
        }
      ],
      "source": [
        "#Qs 1:\n",
        "l = [1,2,3,4]\n",
        "Tuple1 = tuple(l)\n",
        "print(Tuple1)"
      ]
    },
    {
      "cell_type": "code",
      "execution_count": null,
      "metadata": {
        "colab": {
          "base_uri": "https://localhost:8080/"
        },
        "id": "JaCT8zoKK7cD",
        "outputId": "70b17dd4-0654-4953-d00f-f16934ce116c"
      },
      "outputs": [
        {
          "output_type": "stream",
          "name": "stdout",
          "text": [
            "('Python,', 'for', 'kids')\n"
          ]
        }
      ],
      "source": [
        "#Qs 2:\n",
        "Tuple2 = ('Python,', 'for', 'kids')\n",
        "print(Tuple2)"
      ]
    },
    {
      "cell_type": "code",
      "execution_count": null,
      "metadata": {
        "colab": {
          "base_uri": "https://localhost:8080/"
        },
        "id": "y5CwDIcdK7cD",
        "outputId": "cc01dc23-7b9b-4b08-8e8d-9a279eba79ae"
      },
      "outputs": [
        {
          "output_type": "stream",
          "name": "stdout",
          "text": [
            "(1, 2, 3, 4, 'Python,', 'for', 'kids')\n"
          ]
        }
      ],
      "source": [
        "#Qs 3:\n",
        "Tuple1 = Tuple1 + Tuple2\n",
        "print(Tuple1)\n"
      ]
    },
    {
      "cell_type": "code",
      "execution_count": null,
      "metadata": {
        "colab": {
          "base_uri": "https://localhost:8080/"
        },
        "id": "E9TOtLnvK7cD",
        "outputId": "e80e2bc1-7f64-44a6-b5bf-cd002b552793"
      },
      "outputs": [
        {
          "output_type": "stream",
          "name": "stdout",
          "text": [
            "(4, 'Python,', 'for', 'kids')\n"
          ]
        }
      ],
      "source": [
        "#Qs 4:\n",
        "print(Tuple1[3:])"
      ]
    },
    {
      "cell_type": "markdown",
      "metadata": {
        "id": "Rhx3UQlNK7cD"
      },
      "source": [
        "# Dictionary"
      ]
    },
    {
      "cell_type": "code",
      "execution_count": null,
      "metadata": {
        "id": "HNspNlGKK7cF"
      },
      "outputs": [],
      "source": [
        "#Qs 1:\n",
        "Dict = {}"
      ]
    },
    {
      "cell_type": "code",
      "execution_count": null,
      "metadata": {
        "colab": {
          "base_uri": "https://localhost:8080/"
        },
        "id": "bwZ8VyDhK7cF",
        "outputId": "077966ab-6e47-4afc-a6a2-6c45d9647e1e"
      },
      "outputs": [
        {
          "output_type": "stream",
          "name": "stdout",
          "text": [
            "{0: 'Python', 1: 'Programming', 2: 'Funny'}\n"
          ]
        }
      ],
      "source": [
        "#Qs 2:\n",
        "Dict [0] = \"Python\"\n",
        "Dict [1] = \"Programming\"\n",
        "Dict [2] = \"Funny\"\n",
        "print(Dict)"
      ]
    },
    {
      "cell_type": "code",
      "execution_count": null,
      "metadata": {
        "colab": {
          "base_uri": "https://localhost:8080/"
        },
        "id": "2__RapJGK7cF",
        "outputId": "8566f8f3-7297-4c96-d5ab-aeae35c0c29b"
      },
      "outputs": [
        {
          "output_type": "stream",
          "name": "stdout",
          "text": [
            "{0: 'Python', 1: 'is very', 2: 'Funny'}\n"
          ]
        }
      ],
      "source": [
        "#Qs 3\n",
        "up_dict = {1:\"is very\"}\n",
        "Dict.update(up_dict)\n",
        "print(Dict)"
      ]
    },
    {
      "cell_type": "code",
      "execution_count": null,
      "metadata": {
        "colab": {
          "base_uri": "https://localhost:8080/"
        },
        "id": "kiwcWhPgK7cF",
        "outputId": "6d4e32cf-2daf-4e47-f4e9-824536675e9f"
      },
      "outputs": [
        {
          "output_type": "stream",
          "name": "stdout",
          "text": [
            "dict_keys([0, 1, 2])\n"
          ]
        }
      ],
      "source": [
        "#Qs 4\n",
        "print(Dict.keys())"
      ]
    },
    {
      "cell_type": "code",
      "execution_count": null,
      "metadata": {
        "colab": {
          "base_uri": "https://localhost:8080/"
        },
        "id": "1N3XKiKWK7cF",
        "outputId": "5a457789-9f74-43a1-8eaa-5d6e8116476e"
      },
      "outputs": [
        {
          "output_type": "stream",
          "name": "stdout",
          "text": [
            "dict_values(['Python', 'is very', 'Funny'])\n"
          ]
        }
      ],
      "source": [
        "#Qs 5:\n",
        "print(Dict.values())"
      ]
    },
    {
      "cell_type": "code",
      "execution_count": null,
      "metadata": {
        "colab": {
          "base_uri": "https://localhost:8080/"
        },
        "id": "txhq1DHcK7cG",
        "outputId": "81c9d5af-8b48-4746-d5cb-5827cdc1ab2b"
      },
      "outputs": [
        {
          "output_type": "stream",
          "name": "stdout",
          "text": [
            "{0: 'Python', 1: 'is very'}\n"
          ]
        }
      ],
      "source": [
        "#Qs 6:\n",
        "Dict.pop(2)\n",
        "print(Dict)"
      ]
    },
    {
      "cell_type": "code",
      "execution_count": null,
      "metadata": {
        "colab": {
          "base_uri": "https://localhost:8080/"
        },
        "id": "rbPO9tkNK7cG",
        "outputId": "3888ddb6-8a86-47b5-8fe2-0d2aad2b4b3d"
      },
      "outputs": [
        {
          "output_type": "stream",
          "name": "stdout",
          "text": [
            "Doesn't exist\n"
          ]
        }
      ],
      "source": [
        "#Qs 7:\n",
        "if 2 in Dict:\n",
        "    print(\"Exists\")\n",
        "else:\n",
        "    print(\"Doesn't exist\")"
      ]
    },
    {
      "cell_type": "code",
      "execution_count": null,
      "metadata": {
        "colab": {
          "base_uri": "https://localhost:8080/"
        },
        "id": "Z9tOwySrK7cG",
        "outputId": "b1c78a76-9480-4ae7-9594-0eb67a78f457"
      },
      "outputs": [
        {
          "output_type": "stream",
          "name": "stdout",
          "text": [
            "['Python', 'is very']\n"
          ]
        }
      ],
      "source": [
        "#Qs 8:\n",
        "l = list(Dict.values())\n",
        "print(l)"
      ]
    }
  ],
  "metadata": {
    "kernelspec": {
      "display_name": "Python 3",
      "language": "python",
      "name": "python3"
    },
    "language_info": {
      "codemirror_mode": {
        "name": "ipython",
        "version": 3
      },
      "file_extension": ".py",
      "mimetype": "text/x-python",
      "name": "python",
      "nbconvert_exporter": "python",
      "pygments_lexer": "ipython3",
      "version": "3.7.4"
    },
    "colab": {
      "provenance": [],
      "toc_visible": true,
      "include_colab_link": true
    }
  },
  "nbformat": 4,
  "nbformat_minor": 0
}